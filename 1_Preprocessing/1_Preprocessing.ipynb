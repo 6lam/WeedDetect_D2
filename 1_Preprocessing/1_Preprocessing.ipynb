import cv2
from google.colab.patches import cv2_imshow
from glob import glob

# Calculate the VI for masks - In this case it is CIVE
def create_soilplant_maks(im):
    #CIVE = 0.441*im[:,:,0] - 0.881*im[:,:,1] + 0.385*im[:,:,2] +18.78745
    #CIVE = 0.400*im[:,:,0] - 0.900*im[:,:,1] + 0.340*im[:,:,2] +18.78745
    CIVE = 0.441*im[:,:,0] - 0.881*im[:,:,1] + 0.385*im[:,:,2] +10.00000
    #otsu_threshold, image_result = cv2.threshold(CIVE.astype('uint8'), 0, 1, cv2.THRESH_BINARY + cv2.THRESH_OTSU)
    otsu_threshold, image_result = cv2.threshold(CIVE.astype('uint8'), 0, 255, cv2.THRESH_BINARY + cv2.THRESH_OTSU)
    return otsu_threshold, image_result

otsu_thresh = []

print(cv2.THRESH_BINARY)
print(cv2.THRESH_OTSU)
ft1_1 = glob('/content/drive/MyDrive/Dissertation/Data/20230530/train/FH100*.jpg')
for i in ft1_1:
    print(i)
    fileName=i.split("/")[8]
    im = cv2.imread(i)
    #cv2_imshow(im)
    #im = cv2.cvtColor(im, cv2.COLOR_BGR2RGB)
    otsu_threshold, image_result = create_soilplant_maks(im)
    #cv2_imshow(image_result)

    combined = cv2.copyTo(im, image_result)
    #cv2_imshow(combined)

    outputFile = '/content/drive/MyDrive/Dissertation/Data/20230530/train/withSoilMask/' + fileName
    cv2.imwrite(outputFile,combined)
    #path = os.path.dirname(i).replace('manuallabel_makesense', 'inputImages_Masks')
    #filename = os.path.basename(i).replace('.jpeg',"")
    #if not os.path.exists(path):
    #    os.makedirs(path)
    # save the image as npy
    #np.save(f"{path}/{filename}_image.npy", im)
    # save the soil mask as npy
    #np.save(f'{path}/{filename}_soil_mask.npy', image_result)
    otsu_thresh.append(otsu_threshold)

#print(otsu_thresh)
#a = pd.Series(otsu_thresh)
#a.to_csv(f'{path}/otsu_threshold.csv')
