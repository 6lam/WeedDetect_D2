{
  "nbformat": 4,
  "nbformat_minor": 0,
  "metadata": {
    "colab": {
      "provenance": []
    },
    "kernelspec": {
      "name": "python3",
      "display_name": "Python 3"
    },
    "language_info": {
      "name": "python"
    }
  },
  "cells": [
    {
      "cell_type": "markdown",
      "source": [
        "###Split COCO json annotation by image ID"
      ],
      "metadata": {
        "id": "dbeBwxNoGNtr"
      }
    },
    {
      "cell_type": "code",
      "execution_count": null,
      "metadata": {
        "id": "wHz-shkyGJei"
      },
      "outputs": [],
      "source": [
        "from pycocotools.coco import COCO\n",
        "import requests\n",
        "import os\n",
        "from os.path import join\n",
        "from tqdm import tqdm\n",
        "import json"
      ]
    },
    {
      "cell_type": "code",
      "source": [
        "def generateList(r1,r2):\n",
        "  l = []\n",
        "  while(r1 < r2+1 ):\n",
        "   l.append(r1)\n",
        "   r1 += 1\n",
        "  return l"
      ],
      "metadata": {
        "id": "K96zv1_YHUeP"
      },
      "execution_count": null,
      "outputs": []
    },
    {
      "cell_type": "code",
      "source": [
        "#For glasshouse\n",
        "#Split annotations into A0H100, A0H50, A30H100, A30H50\n",
        "json_dir='/content/drive/MyDrive/Dissertation/Data/20230530/train'\n",
        "batch='20230523'\n",
        "prefix='annotation_'\n",
        "coco_path='/content/drive/MyDrive/Dissertation/Data/20230530/train/annotation_'+batch+'.json'\n",
        "\n",
        "#For A0H100\n",
        "img_id=generateList(1,48)\n",
        "json_name=prefix+'A0H100_'+batch+'.json'\n",
        "\n",
        "coco = COCO(coco_path)\n",
        "new_imgs = [x for x in coco.dataset['images'] if x['id'] in img_id]\n",
        "new_annots = [x for x in coco.dataset['annotations'] if x['image_id'] in img_id]\n",
        "data = {\n",
        "    \"info\": coco.dataset['info'],\n",
        "    \"licenses\": coco.dataset['licenses'],\n",
        "    \"categories\": coco.dataset['categories'],\n",
        "    \"images\": new_imgs,\n",
        "    \"annotations\": new_annots\n",
        "}\n",
        "with open(os.path.join(json_dir, json_name), 'w') as f:\n",
        "    print(\"saving json: \" + os.path.join(json_dir, json_name))\n",
        "    json.dump(data, f)\n",
        "\n",
        "#For A0H50\n",
        "img_id=generateList(49,144)\n",
        "json_name=prefix+'A0H50_'+batch+'.json'\n",
        "\n",
        "coco = COCO(coco_path)\n",
        "new_imgs = [x for x in coco.dataset['images'] if x['id'] in img_id]\n",
        "new_annots = [x for x in coco.dataset['annotations'] if x['image_id'] in img_id]\n",
        "data = {\n",
        "    \"info\": coco.dataset['info'],\n",
        "    \"licenses\": coco.dataset['licenses'],\n",
        "    \"categories\": coco.dataset['categories'],\n",
        "    \"images\": new_imgs,\n",
        "    \"annotations\": new_annots\n",
        "}\n",
        "with open(os.path.join(json_dir, json_name), 'w') as f:\n",
        "    print(\"saving json: \" + os.path.join(json_dir, json_name))\n",
        "    json.dump(data, f)\n",
        "\n",
        "#For A30H100\n",
        "img_id=generateList(145,192)\n",
        "json_name=prefix+'A30H100_'+batch+'.json'\n",
        "\n",
        "coco = COCO(coco_path)\n",
        "new_imgs = [x for x in coco.dataset['images'] if x['id'] in img_id]\n",
        "new_annots = [x for x in coco.dataset['annotations'] if x['image_id'] in img_id]\n",
        "data = {\n",
        "    \"info\": coco.dataset['info'],\n",
        "    \"licenses\": coco.dataset['licenses'],\n",
        "    \"categories\": coco.dataset['categories'],\n",
        "    \"images\": new_imgs,\n",
        "    \"annotations\": new_annots\n",
        "}\n",
        "with open(os.path.join(json_dir, json_name), 'w') as f:\n",
        "    print(\"saving json: \" + os.path.join(json_dir, json_name))\n",
        "    json.dump(data, f)\n",
        "\n",
        "#For A30H50\n",
        "img_id=generateList(193,288)\n",
        "json_name=prefix+'A30H50_'+batch+'.json'\n",
        "\n",
        "coco = COCO(coco_path)\n",
        "new_imgs = [x for x in coco.dataset['images'] if x['id'] in img_id]\n",
        "new_annots = [x for x in coco.dataset['annotations'] if x['image_id'] in img_id]\n",
        "data = {\n",
        "    \"info\": coco.dataset['info'],\n",
        "    \"licenses\": coco.dataset['licenses'],\n",
        "    \"categories\": coco.dataset['categories'],\n",
        "    \"images\": new_imgs,\n",
        "    \"annotations\": new_annots\n",
        "}\n",
        "with open(os.path.join(json_dir, json_name), 'w') as f:\n",
        "    print(\"saving json: \" + os.path.join(json_dir, json_name))\n",
        "    json.dump(data, f)"
      ],
      "metadata": {
        "colab": {
          "base_uri": "https://localhost:8080/"
        },
        "id": "yycZdTeWGhYu",
        "outputId": "0875efab-dd17-4f88-d7ec-e9c5254e7a20"
      },
      "execution_count": null,
      "outputs": [
        {
          "output_type": "stream",
          "name": "stdout",
          "text": [
            "loading annotations into memory...\n",
            "Done (t=5.83s)\n",
            "creating index...\n",
            "index created!\n",
            "saving json: /content/drive/MyDrive/Dissertation/Data/20230530/train/annotation_A0H100_20230523.json\n",
            "loading annotations into memory...\n",
            "Done (t=0.26s)\n",
            "creating index...\n",
            "index created!\n",
            "saving json: /content/drive/MyDrive/Dissertation/Data/20230530/train/annotation_A0H50_20230523.json\n",
            "loading annotations into memory...\n",
            "Done (t=0.07s)\n",
            "creating index...\n",
            "index created!\n",
            "saving json: /content/drive/MyDrive/Dissertation/Data/20230530/train/annotation_A30H100_20230523.json\n",
            "loading annotations into memory...\n",
            "Done (t=0.05s)\n",
            "creating index...\n",
            "index created!\n",
            "saving json: /content/drive/MyDrive/Dissertation/Data/20230530/train/annotation_A30H50_20230523.json\n"
          ]
        }
      ]
    },
    {
      "cell_type": "code",
      "source": [
        "#For field\n",
        "#Split annotations into A0H100, A0H50, A30H100, A30H50\n",
        "json_dir='/content/drive/MyDrive/Dissertation/Data/20230530/train/withSoilMask'\n",
        "batch='20230720'\n",
        "prefix='annotation_'\n",
        "coco_path='/content/drive/MyDrive/Dissertation/Data/20230530/train/annotation_A0H100_'+batch+'.json'\n",
        "\n",
        "#For A0H100\n",
        "img_id=generateList(1,23)\n",
        "img_id2=generateList(42,79)\n",
        "img_id3=generateList(96,117)\n",
        "img_id.extend(img_id2)\n",
        "img_id.extend(img_id3)\n",
        "json_name=prefix+'A0H100_'+batch+'.json'\n",
        "\n",
        "coco = COCO(coco_path)\n",
        "new_imgs = [x for x in coco.dataset['images'] if x['id'] in img_id]\n",
        "new_annots = [x for x in coco.dataset['annotations'] if x['image_id'] in img_id]\n",
        "data = {\n",
        "    \"info\": coco.dataset['info'],\n",
        "    \"licenses\": coco.dataset['licenses'],\n",
        "    \"categories\": coco.dataset['categories'],\n",
        "    \"images\": new_imgs,\n",
        "    \"annotations\": new_annots\n",
        "}\n",
        "with open(os.path.join(json_dir, json_name), 'w') as f:\n",
        "    print(\"saving json: \" + os.path.join(json_dir, json_name))\n",
        "    json.dump(data, f)\n",
        "\n",
        "#For A30H100\n",
        "img_id=generateList(24,41)\n",
        "img_id2=generateList(80,95)\n",
        "img_id3=generateList(118,143)\n",
        "img_id.extend(img_id2)\n",
        "img_id.extend(img_id3)\n",
        "json_name=prefix+'A30H100_'+batch+'.json'\n",
        "\n",
        "coco = COCO(coco_path)\n",
        "new_imgs = [x for x in coco.dataset['images'] if x['id'] in img_id]\n",
        "new_annots = [x for x in coco.dataset['annotations'] if x['image_id'] in img_id]\n",
        "data = {\n",
        "    \"info\": coco.dataset['info'],\n",
        "    \"licenses\": coco.dataset['licenses'],\n",
        "    \"categories\": coco.dataset['categories'],\n",
        "    \"images\": new_imgs,\n",
        "    \"annotations\": new_annots\n",
        "}\n",
        "with open(os.path.join(json_dir, json_name), 'w') as f:\n",
        "    print(\"saving json: \" + os.path.join(json_dir, json_name))\n",
        "    json.dump(data, f)\n",
        "\n",
        "coco_path='/content/drive/MyDrive/Dissertation/Data/20230530/train/annotation_A0H50_'+batch+'.json'\n",
        "#For A0H50\n",
        "img_id=generateList(1,27)\n",
        "img_id2=generateList(60,92)\n",
        "img_id3=generateList(122,141)\n",
        "img_id.extend(img_id2)\n",
        "img_id.extend(img_id3)\n",
        "json_name=prefix+'A0H50_'+batch+'.json'\n",
        "\n",
        "coco = COCO(coco_path)\n",
        "new_imgs = [x for x in coco.dataset['images'] if x['id'] in img_id]\n",
        "new_annots = [x for x in coco.dataset['annotations'] if x['image_id'] in img_id]\n",
        "data = {\n",
        "    \"info\": coco.dataset['info'],\n",
        "    \"licenses\": coco.dataset['licenses'],\n",
        "    \"categories\": coco.dataset['categories'],\n",
        "    \"images\": new_imgs,\n",
        "    \"annotations\": new_annots\n",
        "}\n",
        "with open(os.path.join(json_dir, json_name), 'w') as f:\n",
        "    print(\"saving json: \" + os.path.join(json_dir, json_name))\n",
        "    json.dump(data, f)\n",
        "\n",
        "#For A30H50\n",
        "img_id=generateList(28,59)\n",
        "img_id2=generateList(93,121)\n",
        "img_id3=generateList(142,165)\n",
        "img_id.extend(img_id2)\n",
        "img_id.extend(img_id3)\n",
        "json_name=prefix+'A30H50_'+batch+'.json'\n",
        "\n",
        "coco = COCO(coco_path)\n",
        "new_imgs = [x for x in coco.dataset['images'] if x['id'] in img_id]\n",
        "new_annots = [x for x in coco.dataset['annotations'] if x['image_id'] in img_id]\n",
        "data = {\n",
        "    \"info\": coco.dataset['info'],\n",
        "    \"licenses\": coco.dataset['licenses'],\n",
        "    \"categories\": coco.dataset['categories'],\n",
        "    \"images\": new_imgs,\n",
        "    \"annotations\": new_annots\n",
        "}\n",
        "with open(os.path.join(json_dir, json_name), 'w') as f:\n",
        "    print(\"saving json: \" + os.path.join(json_dir, json_name))\n",
        "    json.dump(data, f)"
      ],
      "metadata": {
        "colab": {
          "base_uri": "https://localhost:8080/"
        },
        "id": "WulOHkL8pYte",
        "outputId": "1836db27-8c76-4980-fad7-38711c1605e8"
      },
      "execution_count": null,
      "outputs": [
        {
          "output_type": "stream",
          "name": "stdout",
          "text": [
            "[1, 2, 3, 4, 5, 6, 7, 8, 9, 10, 11, 12, 13, 14, 15, 16, 17, 18, 19, 20, 21, 22, 23, 42, 43, 44, 45, 46, 47, 48, 49, 50, 51, 52, 53, 54, 55, 56, 57, 58, 59, 60, 61, 62, 63, 64, 65, 66, 67, 68, 69, 70, 71, 72, 73, 74, 75, 76, 77, 78, 79, 96, 97, 98, 99, 100, 101, 102, 103, 104, 105, 106, 107, 108, 109, 110, 111, 112, 113, 114, 115, 116, 117]\n",
            "loading annotations into memory...\n",
            "Done (t=0.10s)\n",
            "creating index...\n",
            "index created!\n",
            "saving json: /content/drive/MyDrive/Dissertation/Data/20230530/train/withSoilMask/annotation_A0H100_20230720.json\n",
            "loading annotations into memory...\n",
            "Done (t=0.05s)\n",
            "creating index...\n",
            "index created!\n",
            "saving json: /content/drive/MyDrive/Dissertation/Data/20230530/train/withSoilMask/annotation_A30H100_20230720.json\n",
            "loading annotations into memory...\n",
            "Done (t=0.04s)\n",
            "creating index...\n",
            "index created!\n",
            "saving json: /content/drive/MyDrive/Dissertation/Data/20230530/train/withSoilMask/annotation_A0H50_20230720.json\n",
            "loading annotations into memory...\n",
            "Done (t=0.04s)\n",
            "creating index...\n",
            "index created!\n",
            "saving json: /content/drive/MyDrive/Dissertation/Data/20230530/train/withSoilMask/annotation_A30H50_20230720.json\n"
          ]
        }
      ]
    },
    {
      "cell_type": "markdown",
      "source": [
        "###Split annotations into train and validate"
      ],
      "metadata": {
        "id": "u7NwkUVuWq7r"
      }
    },
    {
      "cell_type": "code",
      "source": [
        "%%bash\n",
        "git clone https://github.com/akarazniewicz/cocosplit.git\n"
      ],
      "metadata": {
        "colab": {
          "base_uri": "https://localhost:8080/"
        },
        "id": "qmvKo0DIW0VV",
        "outputId": "8c267ca5-114c-422a-b255-6a0e7a47f4f0"
      },
      "execution_count": null,
      "outputs": [
        {
          "output_type": "stream",
          "name": "stderr",
          "text": [
            "Cloning into 'cocosplit'...\n"
          ]
        }
      ]
    },
    {
      "cell_type": "code",
      "source": [
        "#%%bash\n",
        "%cd /content/cocosplit\n",
        "#%pip install scikit-multilearn\n",
        "#%pip install -r requirements.txt 1>/dev/null\n",
        "%pip install -r requirements.txt"
      ],
      "metadata": {
        "id": "7oQE6gr0Cf8o",
        "colab": {
          "base_uri": "https://localhost:8080/",
          "height": 412
        },
        "outputId": "a68eb084-36cf-49ec-ab0d-561d6f85e2c0"
      },
      "execution_count": null,
      "outputs": [
        {
          "output_type": "stream",
          "name": "stdout",
          "text": [
            "/content/cocosplit\n",
            "Collecting sklearn (from -r requirements.txt (line 1))\n",
            "  Using cached sklearn-0.0.post9.tar.gz (3.6 kB)\n",
            "  Preparing metadata (setup.py) ... \u001b[?25l\u001b[?25hdone\n",
            "Collecting funcy (from -r requirements.txt (line 2))\n",
            "  Downloading funcy-2.0-py2.py3-none-any.whl (30 kB)\n",
            "Collecting argparse (from -r requirements.txt (line 3))\n",
            "  Downloading argparse-1.4.0-py2.py3-none-any.whl (23 kB)\n",
            "Requirement already satisfied: scikit-multilearn in /usr/local/lib/python3.10/dist-packages (from -r requirements.txt (line 4)) (0.2.0)\n",
            "Building wheels for collected packages: sklearn\n",
            "  Building wheel for sklearn (setup.py) ... \u001b[?25l\u001b[?25hdone\n",
            "  Created wheel for sklearn: filename=sklearn-0.0.post9-py3-none-any.whl size=2952 sha256=e37e6f0cbb3847a4c8d2e8c2dc451293db3c0f1c47cb083f4650f5659728d1b1\n",
            "  Stored in directory: /root/.cache/pip/wheels/33/a3/d2/092b519e9522b4c91608b7dcec0dd9051fa1bff4c45f4502d1\n",
            "Successfully built sklearn\n",
            "Installing collected packages: sklearn, funcy, argparse\n",
            "Successfully installed argparse-1.4.0 funcy-2.0 sklearn-0.0.post9\n"
          ]
        },
        {
          "output_type": "display_data",
          "data": {
            "application/vnd.colab-display-data+json": {
              "pip_warning": {
                "packages": [
                  "argparse"
                ]
              }
            }
          },
          "metadata": {}
        }
      ]
    },
    {
      "cell_type": "code",
      "source": [
        "#For glasshouse\n",
        "batch_list=['20230523']\n",
        "sub_batch_list=['A0H100','A0H50','A30H100','A30H50']\n",
        "base_path='/content/drive/MyDrive/Dissertation/Data/20230530/train/'\n",
        "json_prefix='annotation_'\n",
        "\n",
        "for x in batch_list:\n",
        "  for y in sub_batch_list:\n",
        "      path_origin=base_path+json_prefix+y+'_'+x+'.json'\n",
        "      path_train=base_path+json_prefix+y+'_'+x+'_train.json'\n",
        "      path_val=base_path+json_prefix+y+'_'+x+'_val.json'\n",
        "      print(path_origin)\n",
        "      !python /content/cocosplit/cocosplit.py --having-annotations -s 0.8 {path_origin} {path_train} {path_val}\n",
        "\n",
        "\n",
        "\n"
      ],
      "metadata": {
        "colab": {
          "base_uri": "https://localhost:8080/"
        },
        "id": "n3g64e_ggDtY",
        "outputId": "612fab48-f373-47f6-b491-827bbcf4390e"
      },
      "execution_count": null,
      "outputs": [
        {
          "output_type": "stream",
          "name": "stdout",
          "text": [
            "/content/drive/MyDrive/Dissertation/Data/20230530/train/annotation_A0H100_20230523.json\n",
            "Saved 560 entries in /content/drive/MyDrive/Dissertation/Data/20230530/train/annotation_A0H100_20230523_train.json and 132 in /content/drive/MyDrive/Dissertation/Data/20230530/train/annotation_A0H100_20230523_val.json\n",
            "/content/drive/MyDrive/Dissertation/Data/20230530/train/annotation_A0H50_20230523.json\n",
            "Saved 502 entries in /content/drive/MyDrive/Dissertation/Data/20230530/train/annotation_A0H50_20230523_train.json and 119 in /content/drive/MyDrive/Dissertation/Data/20230530/train/annotation_A0H50_20230523_val.json\n",
            "/content/drive/MyDrive/Dissertation/Data/20230530/train/annotation_A30H100_20230523.json\n",
            "Saved 833 entries in /content/drive/MyDrive/Dissertation/Data/20230530/train/annotation_A30H100_20230523_train.json and 292 in /content/drive/MyDrive/Dissertation/Data/20230530/train/annotation_A30H100_20230523_val.json\n",
            "/content/drive/MyDrive/Dissertation/Data/20230530/train/annotation_A30H50_20230523.json\n",
            "Saved 1048 entries in /content/drive/MyDrive/Dissertation/Data/20230530/train/annotation_A30H50_20230523_train.json and 232 in /content/drive/MyDrive/Dissertation/Data/20230530/train/annotation_A30H50_20230523_val.json\n"
          ]
        }
      ]
    },
    {
      "cell_type": "code",
      "source": [
        "#For field\n",
        "batch_list=['20230720']\n",
        "sub_batch_list=['A0H100','A0H50','A30H100','A30H50']\n",
        "base_path='/content/drive/MyDrive/Dissertation/Data/20230530/train/'\n",
        "json_prefix='annotation_'\n",
        "\n",
        "for x in batch_list:\n",
        "  for y in sub_batch_list:\n",
        "      path_origin=base_path+json_prefix+y+'_'+x+'.json'\n",
        "      path_train=base_path+json_prefix+y+'_'+x+'_train.json'\n",
        "      path_val=base_path+json_prefix+y+'_'+x+'_val.json'\n",
        "      print(path_origin)\n",
        "      !python /content/cocosplit/cocosplit.py --having-annotations -s 0.8 {path_origin} {path_train} {path_val}"
      ],
      "metadata": {
        "colab": {
          "base_uri": "https://localhost:8080/"
        },
        "id": "jbruzGnr1HKa",
        "outputId": "e1f2c76f-ba36-4de0-c430-da402ffa6d08"
      },
      "execution_count": null,
      "outputs": [
        {
          "output_type": "stream",
          "name": "stdout",
          "text": [
            "/content/drive/MyDrive/Dissertation/Data/20230530/train/annotation_A0H100_20230720.json\n",
            "Saved 791 entries in /content/drive/MyDrive/Dissertation/Data/20230530/train/annotation_A0H100_20230720_train.json and 181 in /content/drive/MyDrive/Dissertation/Data/20230530/train/annotation_A0H100_20230720_val.json\n",
            "/content/drive/MyDrive/Dissertation/Data/20230530/train/annotation_A0H50_20230720.json\n",
            "Saved 370 entries in /content/drive/MyDrive/Dissertation/Data/20230530/train/annotation_A0H50_20230720_train.json and 104 in /content/drive/MyDrive/Dissertation/Data/20230530/train/annotation_A0H50_20230720_val.json\n",
            "/content/drive/MyDrive/Dissertation/Data/20230530/train/annotation_A30H100_20230720.json\n",
            "Saved 651 entries in /content/drive/MyDrive/Dissertation/Data/20230530/train/annotation_A30H100_20230720_train.json and 165 in /content/drive/MyDrive/Dissertation/Data/20230530/train/annotation_A30H100_20230720_val.json\n",
            "/content/drive/MyDrive/Dissertation/Data/20230530/train/annotation_A30H50_20230720.json\n",
            "Saved 659 entries in /content/drive/MyDrive/Dissertation/Data/20230530/train/annotation_A30H50_20230720_train.json and 152 in /content/drive/MyDrive/Dissertation/Data/20230530/train/annotation_A30H50_20230720_val.json\n"
          ]
        }
      ]
    }
  ]
}